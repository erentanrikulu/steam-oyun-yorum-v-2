{
 "cells": [
  {
   "cell_type": "code",
   "execution_count": 1,
   "id": "63959a9e-4ffd-4ab5-a671-5c9a52f452eb",
   "metadata": {},
   "outputs": [],
   "source": [
    "import nltk\n",
    "from nltk.tokenize import word_tokenize, sent_tokenize\n",
    "from nltk.corpus import stopwords\n",
    "from nltk.stem import WordNetLemmatizer, PorterStemmer\n",
    "import csv\n",
    "import pandas as pd\n",
    "import numpy as np\n",
    "import re"
   ]
  },
  {
   "cell_type": "code",
   "execution_count": 3,
   "id": "a06683a0-f4e1-4271-b520-11c041116d10",
   "metadata": {},
   "outputs": [
    {
     "name": "stderr",
     "output_type": "stream",
     "text": [
      "[nltk_data] Downloading package punkt to\n",
      "[nltk_data]     C:\\Users\\eren\\AppData\\Roaming\\nltk_data...\n",
      "[nltk_data]   Package punkt is already up-to-date!\n",
      "[nltk_data] Downloading package stopwords to\n",
      "[nltk_data]     C:\\Users\\eren\\AppData\\Roaming\\nltk_data...\n",
      "[nltk_data]   Package stopwords is already up-to-date!\n",
      "[nltk_data] Downloading package wordnet to\n",
      "[nltk_data]     C:\\Users\\eren\\AppData\\Roaming\\nltk_data...\n",
      "[nltk_data]   Package wordnet is already up-to-date!\n"
     ]
    },
    {
     "data": {
      "text/plain": [
       "True"
      ]
     },
     "execution_count": 3,
     "metadata": {},
     "output_type": "execute_result"
    }
   ],
   "source": [
    " nltk.download('punkt')\n",
    " nltk.download('stopwords')\n",
    " nltk.download('wordnet')"
   ]
  },
  {
   "cell_type": "code",
   "execution_count": 5,
   "id": "46265662-fb25-4750-b44b-079409988aa2",
   "metadata": {},
   "outputs": [],
   "source": [
    "yeni= pd.read_csv(\"veri_800.csv\")"
   ]
  },
  {
   "cell_type": "code",
   "execution_count": 7,
   "id": "eadea0e9-9b07-474b-9cc0-69609ba57d4a",
   "metadata": {},
   "outputs": [
    {
     "data": {
      "text/html": [
       "<div>\n",
       "<style scoped>\n",
       "    .dataframe tbody tr th:only-of-type {\n",
       "        vertical-align: middle;\n",
       "    }\n",
       "\n",
       "    .dataframe tbody tr th {\n",
       "        vertical-align: top;\n",
       "    }\n",
       "\n",
       "    .dataframe thead th {\n",
       "        text-align: right;\n",
       "    }\n",
       "</style>\n",
       "<table border=\"1\" class=\"dataframe\">\n",
       "  <thead>\n",
       "    <tr style=\"text-align: right;\">\n",
       "      <th></th>\n",
       "      <th>review</th>\n",
       "      <th>game_name</th>\n",
       "    </tr>\n",
       "  </thead>\n",
       "  <tbody>\n",
       "    <tr>\n",
       "      <th>0</th>\n",
       "      <td>2022 Simply incredible. With essential patches...</td>\n",
       "      <td>Total War: WARHAMMER III</td>\n",
       "    </tr>\n",
       "    <tr>\n",
       "      <th>1</th>\n",
       "      <td>09/05/2024 - Game 100% unplayable09/06/2024 - ...</td>\n",
       "      <td>Warhammer 40,000: Space Marine 2</td>\n",
       "    </tr>\n",
       "    <tr>\n",
       "      <th>2</th>\n",
       "      <td>Black Myth: Wukong Beat the game with multiple...</td>\n",
       "      <td>Black Myth: Wukong</td>\n",
       "    </tr>\n",
       "    <tr>\n",
       "      <th>3</th>\n",
       "      <td>2022 Average Fromsoftware enjoyer:⠀⣿⣿⣿⣿⣿⣿⣿⣿⡿⠿⠛...</td>\n",
       "      <td>ELDEN RING</td>\n",
       "    </tr>\n",
       "    <tr>\n",
       "      <th>4</th>\n",
       "      <td>2018 This is an extremely hardcore, skill-base...</td>\n",
       "      <td>Counter-Strike 2</td>\n",
       "    </tr>\n",
       "  </tbody>\n",
       "</table>\n",
       "</div>"
      ],
      "text/plain": [
       "                                              review  \\\n",
       "0  2022 Simply incredible. With essential patches...   \n",
       "1  09/05/2024 - Game 100% unplayable09/06/2024 - ...   \n",
       "2  Black Myth: Wukong Beat the game with multiple...   \n",
       "3  2022 Average Fromsoftware enjoyer:⠀⣿⣿⣿⣿⣿⣿⣿⣿⡿⠿⠛...   \n",
       "4  2018 This is an extremely hardcore, skill-base...   \n",
       "\n",
       "                          game_name  \n",
       "0          Total War: WARHAMMER III  \n",
       "1  Warhammer 40,000: Space Marine 2  \n",
       "2                Black Myth: Wukong  \n",
       "3                        ELDEN RING  \n",
       "4                  Counter-Strike 2  "
      ]
     },
     "execution_count": 7,
     "metadata": {},
     "output_type": "execute_result"
    }
   ],
   "source": [
    "yeni.head()"
   ]
  },
  {
   "cell_type": "code",
   "execution_count": 9,
   "id": "78ce8502-2f27-4fac-bf8e-e4d298dce1de",
   "metadata": {},
   "outputs": [
    {
     "name": "stdout",
     "output_type": "stream",
     "text": [
      "Veri Seti Bilgisi:\n",
      "<class 'pandas.core.frame.DataFrame'>\n",
      "RangeIndex: 800 entries, 0 to 799\n",
      "Data columns (total 2 columns):\n",
      " #   Column     Non-Null Count  Dtype \n",
      "---  ------     --------------  ----- \n",
      " 0   review     800 non-null    object\n",
      " 1   game_name  800 non-null    object\n",
      "dtypes: object(2)\n",
      "memory usage: 12.6+ KB\n",
      "None\n",
      "\n",
      "İlk 5 Satır:\n",
      "| review                                                                                                                                                                                                                                                                                                                                                                                                                                                                                                                                                                                                                                                                                                                                                                                                                                                                                                                                                                                                                                                                                                                                                                                                                                                                                                                                                                                                                                                                                                                                                                                                                                                                                                                                                                                                                                                                                                                                                                                                                                                                                                                                                                                                                                                                                                                                                                                                                                                                                                                                                                                                                                                                                                                                                                                                                                                                                                                                                                                                                                                                                                                                                                                                                                                                                                                                                                                      | game_name                        |\n",
      "|:--------------------------------------------------------------------------------------------------------------------------------------------------------------------------------------------------------------------------------------------------------------------------------------------------------------------------------------------------------------------------------------------------------------------------------------------------------------------------------------------------------------------------------------------------------------------------------------------------------------------------------------------------------------------------------------------------------------------------------------------------------------------------------------------------------------------------------------------------------------------------------------------------------------------------------------------------------------------------------------------------------------------------------------------------------------------------------------------------------------------------------------------------------------------------------------------------------------------------------------------------------------------------------------------------------------------------------------------------------------------------------------------------------------------------------------------------------------------------------------------------------------------------------------------------------------------------------------------------------------------------------------------------------------------------------------------------------------------------------------------------------------------------------------------------------------------------------------------------------------------------------------------------------------------------------------------------------------------------------------------------------------------------------------------------------------------------------------------------------------------------------------------------------------------------------------------------------------------------------------------------------------------------------------------------------------------------------------------------------------------------------------------------------------------------------------------------------------------------------------------------------------------------------------------------------------------------------------------------------------------------------------------------------------------------------------------------------------------------------------------------------------------------------------------------------------------------------------------------------------------------------------------------------------------------------------------------------------------------------------------------------------------------------------------------------------------------------------------------------------------------------------------------------------------------------------------------------------------------------------------------------------------------------------------------------------------------------------------------------------------------------------------|:---------------------------------|\n",
      "| 2022 Simply incredible. With essential patches of first months and addition of Immortal Empires, this game is simply breathtaking!                                                                                                                                                                                                                                                                                                                                                                                                                                                                                                                                                                                                                                                                                                                                                                                                                                                                                                                                                                                                                                                                                                                                                                                                                                                                                                                                                                                                                                                                                                                                                                                                                                                                                                                                                                                                                                                                                                                                                                                                                                                                                                                                                                                                                                                                                                                                                                                                                                                                                                                                                                                                                                                                                                                                                                                                                                                                                                                                                                                                                                                                                                                                                                                                                                                          | Total War: WARHAMMER III         |\n",
      "| 09/05/2024 - Game 100% unplayable09/06/2024 - Game 100% unplayable09/07/2024 - Game 100% unplayable.09/08/2024 - Game 100% unplayable.09/09/2024 - Official release date. Still 100% unplayable.09/10/2024 - Game 100% unplayable.09/11/2024 - Game 100% unplayable.09/12/2024 - Game 100% unplayable.09/13/2024 - Game 100% unplayable.09/14/2024 - Game 100% unplayable.09/15/2024 - Game 100% unplayable.09/16/2024 - Game 100% unplayable.09/17/2024 - Game 100% unplayable.09/18/2024 - Game 100% unplayable.09/19/2024 - Game 100% unplayable.09/20/2024 - Game 100% unplayable. STILL does not launch properly and freezes at launch OR otherwise the gameplay freezes every 10 seconds. I got this game on cdkeys so I can't even get a refund either. Simply amazing.I also submitted a ticket on the Focus website and they responded to my ticket saying that they are investigating these issues still but no fix at this time and they did not provide any ETA.I'm no longer wasting my time trying to find a fix. I have almost 2000 games on steam and this is the only one that is having this issue. It's not an issue with my system. This game is very clearly the issue and I highly suggest anyone else experiencing similar issues to report this game as broken on steam.Original review:Game won't even launch. I have a nvidia 3090 gpu, AMD 5950x cpu, 128gb ddr4 ram, m.2 ssd for boot and the game is installed on a separate m.2. When I launch the game it pops up with the anticheat screen loading. After that it goes full screen just black and says not responding. No amount of troubleshooting I seem to do fixes it. I can't even get to the main menu.Figured out to get it to launch literally just click launch from steam and WAIT and eventually it will load. DO NOT CLICK ANYTHING ELSE UNTIL IT LOADS.The default setting when the game starts is set to UNLIMITED FRAME RATE. Like good lord my computer was pushing 240fps in 1440p my computer was just an absolute space heater until I locked the framerate to 60.Even after turning unlimited framerate off I realized simply the act of LAUNCHING THE GAME pushes my GPU and CPU so incredibly hard that both temperatures will reach around 90 celsius almost instantly.When I am able to start the actual campaign the gameplay freezes literally almost 10 seconds. It is like a 50% chance of it crashing whenever it freezes otherwise it just freezes every 10 seconds.Also sometimes the mission gameplay will get sent into a loading screen saying \"disconnected\" and \"changing host\" and will just send you back to the beginning of the mission. Absolutely ridiculous.Turned everything to lowest settings, vsync off. Even changed display setting to 1920x1080p and being in the main menu or in the mission runs my CPU/GPU up to 90 celsius almost instantly. My conclusion right now is that it's terrifying to run this game because of how insanely hard this game appears to be pushing my system even when all settings are turned down/off and I believe that the game is breaking because of something like that. Besides that I also think the servers are not built for the magnitude and are just bogged down right now too.Ain't it something that everyone here paid 80-100 bucks for this just for it to be completely unplayable for half the community. | Warhammer 40,000: Space Marine 2 |\n",
      "| Black Myth: Wukong Beat the game with multiple endings around 50hrs playtime,Excellent A-RPG game which borrowed heavily elements from Soulsborne but few points could be improved:+Amazing combat gameplay, skills unlockable with skill tree equivalent Sekiro game, with Spells, transformation, vessel, and spirits as you progress on early chapter.+Divided by chapter but you could backtrack the previous it even on next chapter+OSTs are amazing, Orchestrated wukong tv series version for this game+Moderate length cutscenes on bossfight is an eyecandy, which is something rare for A-RPG genre nowaday+Lore for each Characters written on details on Journal, prepare for TL;DR unless you're speedreader+Amazing storyline (I wished they had more chapter, felt too short for me 40-50hrs)-Boss rushes, prepare to fight 3-5 bosses within Hour (a bit excessive subjectively statement)-No Map to refer to (depends on your exploration memories), also few item missables throughout gameplay-Exploration and navigate terrain often blocked by invisible wall if you approached most of edge almost superficial exploration, even worse when enemies knocked you into below level and you had to back up (Invisible wall but enemies can pushed you, weird)-Missable item put out of reach unless using weird combo jump skill.-Minor clipping texture on empty part of map, also lighting glitch when transitioning between dark and outside cave when navigateCombat gameplay and Storyline are excellent, superb graphic with unreal engine but require latest rig in order to use Raytracing, but exploration a bit drawback and less fun if not handholding with invisible wall. 8.5/10                                                                                                                                                                                                                                                                                                                                                                                                                                                                                                                                                                                                                                                                                                                                                                                                                                                                                                                                                                                                                                                                                                                                                                                                                                                                                                                                                                                                                                                                                                                                                                                                                                                                          | Black Myth: Wukong               |\n",
      "| 2022 Average Fromsoftware enjoyer:⠀⣿⣿⣿⣿⣿⣿⣿⣿⡿⠿⠛⠛⠛⠋⠉⠈⠉⠉⠉⠉⠛⠻⢿⣿⣿⣿⣿⣿⣿⣿⣿⣿⣿⣿⣿⡿⠋⠁⠀⠀⠀⠀⠀⠀⠀⠀⠀⠀⠀⠀⠀⠀⠀⠉⠛⢿⣿⣿⣿⣿⣿⣿⣿⣿⡏⣀⠀⠀⠀⠀⠀⠀⠀⣀⣤⣤⣤⣄⡀⠀⠀⠀⠀⠀⠀⠀⠙⢿⣿⣿⣿⣿⣿⢏⣴⣿⣷⠀⠀⠀⠀⠀⢾⣿⣿⣿⣿⣿⣿⡆⠀⠀⠀⠀⠀⠀⠀⠈⣿⣿⣿⣿⣟⣾⣿⡟⠁⠀⠀⠀⠀⠀⢀⣾⣿⣿⣿⣿⣿⣷⢢⠀⠀⠀⠀⠀⠀⠀⢸⣿⣿⣿⣿⣿⣟⠀⡴⠄⠀⠀⠀⠀⠀⠀⠙⠻⣿⣿⣿⣿⣷⣄⠀⠀⠀⠀⠀⠀⠀⣿⣿⣿⣿⠟⠻⠀⠀⠀⠀⠀⠀⠀⠀⠀⠀⠶⢴⣿⣿⣿⣿⣿⣧⠀⠀⠀⠀⠀⠀⣿⣿⣁⡀⠀⠀⢰⢠⣦⠀⠀⠀⠀⠀⠀⠀⠀⢀⣼⣿⣿⣿⣿⣿⡄⠀⣴⣶⣿⡄⣿⣿⡋⠀⠀⠀⠎⢸⣿⡆⠀⠀⠀⠀⠀⠀⣴⣿⣿⣿⣿⣿⣿⣿⠗⢘⣿⣟⠛⠿⣼⣿⣿⠋⢀⡌⢰⣿⡿⢿⡀⠀⠀⠀⠀⠀⠙⠿⣿⣿⣿⣿⣿⡇⠀⢸⣿⣿⣧⢀⣼⣿⣿⣷⢻⠄⠘⠛⠋⠛⠃⠀⠀⠀⠀⠀⢿⣧⠈⠉⠙⠛⠋⠀⠀⠀⣿⣿⣿⣿⣿⣿⣿⣧⠀⠈⢸⠀⠀⠀⠀⠀⠀⠀⠀⠀⠀⠟⠀⠀⠀⠀⢀⢃⠀⠀⢸⣿⣿⣿⣿⣿⣿⡿⠀⠴⢗⣠⣤⣴⡶⠶⠖⠀⠀⠀⠀⠀⠀⠀⠀⠀⠀⠀⣀⡸⠀⣿⣿⣿⣿⣿⣿⣿⡀⢠⣾⣿⠏⠀⠠⠀⠀⠀⠀⠀⠀⠀⠀⠀⠀⠀⠀⠀⠛⠉⠀⣿⣿⣿⣿⣿⣿⣿⣧⠈⢹⡇⠀⠀⠀⠀⠀⠀⠀⠀⠀⠀⠀⠀⠀⠀⠀⠀⠀⠀⣰⣿⣿⣿⣿⣿⣿⣿⣿⡄⠈⠃⠀⠀⠀⠀⠀⠀⠀⠀⠀⠀⠀⠀⠀⠀⢀⣠⣴⣾⣿⣿⣿⣿⣿⣿⣿⣿⣿⣧⡀⠀⠀⠀⠀⠀⠀⠀⠀⠀⠀⠀⠀⢀⣠⣾⣿⣿⣿⣿⣿⣿⣿⣿⣿⣿⣿⣿⣿⣷⠀⠀⠀⠀⠀⠀⠀⠀⠀⠀⠀⢀⣴⣿⣿⣿⣿⣿⣿⣿⣿⣿⣿⣿⣿⣿⣿⣿⣿⣿⣦⣄⣀⣀⣀⣀⠀⠀⠀⠀⠘⣿⣿⣿⣿⣿⣿⣿⣿⣿⣿⣿⣿⣿⣿⣿⣿⣿⣿⣿⣿⣿⣿⣿⣿⣿⣷⡄⠀⠀⠀⣿⣿⣿⣿⣿⣿⣿⣿⣿⣿⣿⣿⣿⣿⣿⣿⣿⣿⣿⣿⣿⣿⣿⣿⣿⣿⣧⠀⠀⠀⠙⣿⣿⡟⢻⣿⣿⣿⣿⣿⣿⣿⣿⣿⣿⣿⣿⣿⣿⣿⣿⣿⣿⣿⣿⣿⠇⠀⠁⠀⠀⠹⣿⠃⠀⣿⣿⣿⣿⣿⣿⣿⣿⣿⣿⣿⣿⣿⣿⣿⣿⣿⡿⠛⣿⣿⠀⠀⠀⠀⠀⠀⠀⠀⢐⣿⣿⣿⣿⣿⣿⣿⣿⣿⣿⣿⣿⣿⠿⠛⠉⠉⠁⠀⢻⣿⡇⠀⠀⠀⠀⠀⠀⢀⠈⣿⣿⡿⠉⠛⠛⠛⠉⠉⣿⡿⠋⠁⠀⠀⢀⣀⣠⡴⣸⣿⣇⡄⠀⠀⠀⠀⢀⡿⠄⠙⠛⠀⣀⣠⣤⣤⠄                                                                                                                                                                                                                                                                                                                                                                                                                                                                                                                                                                                                                                                                                                                                                                                                                                                                                                                                                                                                                                                                                                                                                                                                                                                                                                                                                                                                                                                                                                                                                                                                                                                                                                                                                                                                                                                                                                                                                                                                                                                                                                                                                                                                                                                                                                                                                                                                                                                                                                                                                                            | ELDEN RING                       |\n",
      "| 2018 This is an extremely hardcore, skill-based first-person shooter, and it forces you to think differently than other modern shooters. If you’re a Call of Duty player, you’re going to need to change your play style to succeed here.Global Offensive is definitely a Counter-Strike sequel -- it looks and feels familiar, with minor tweaks here and there to help balance old issues and surprise longtime players. This is a demanding, skill-based multiplayer game that's as satisfying now as it ever was, but it's for a specific kind of player. If you're not willing to learn to play different than you're used to, look elsewhere. Otherwise, this is a top-tier tactics game that will probably share the long-tailed legacy of its predecessors....                                                                                                                                                                                                                                                                                                                                                                                                                                                                                                                                                                                                                                                                                                                                                                                                                                                                                                                                                                                                                                                                                                                                                                                                                                                                                                                                                                                                                                                                                                                                                                                                                                                                                                                                                                                                                                                                                                                                                                                                                                                                                                                                                                                                                                                                                                                                                                                                                                                                                                                                                                                                                      | Counter-Strike 2                 |\n",
      "\n",
      "Eksik Veri Sayısı:\n",
      "review       0\n",
      "game_name    0\n",
      "dtype: int64\n"
     ]
    }
   ],
   "source": [
    "# Birleştirilmiş veri setini yükle\n",
    "df = pd.read_csv(\"veri_800.csv\")\n",
    "\n",
    "# Veri setini incele\n",
    "print(\"Veri Seti Bilgisi:\")\n",
    "print(df.info())\n",
    "\n",
    "print(\"\\nİlk 5 Satır:\")\n",
    "print(df.head().to_markdown(index=False, numalign=\"left\", stralign=\"left\"))\n",
    "\n",
    "print(\"\\nEksik Veri Sayısı:\")\n",
    "print(df.isnull().sum())"
   ]
  },
  {
   "cell_type": "code",
   "execution_count": 11,
   "id": "234c23f2-07f5-471e-93a0-b27fd1f20fca",
   "metadata": {},
   "outputs": [],
   "source": [
    "def stem_text(text):\n",
    "  # Küçük harfe çevirme\n",
    "  text = text.lower()\n",
    "  # Noktalama işaretlerini kaldırma\n",
    "  text = re.sub(r'[^\\w\\s]', '', text)"
   ]
  },
  {
   "cell_type": "code",
   "execution_count": 17,
   "id": "5fe66c51-8bf3-48e7-89bd-2807145887c2",
   "metadata": {},
   "outputs": [
    {
     "name": "stdout",
     "output_type": "stream",
     "text": [
      "['2022 Simply incredible.', 'With essential patches of first months and addition of Immortal Empires, this game is simply breathtaking!', '09/05/2024 - Game 100% unplayable09/06/2024 - Game 100% unplayable09/07/2024 - Game 100% unplayable.09/08/2024 - Game 100% unplayable.09/09/2024 - Official release date.', 'Still 100% unplayable.09/10/2024 - Game 100% unplayable.09/11/2024 - Game 100% unplayable.09/12/2024 - Game 100% unplayable.09/13/2024 - Game 100% unplayable.09/14/2024 - Game 100% unplayable.09/15/2024 - Game 100% unplayable.09/16/2024 - Game 100% unplayable.09/17/2024 - Game 100% unplayable.09/18/2024 - Game 100% unplayable.09/19/2024 - Game 100% unplayable.09/20/2024 - Game 100% unplayable.', 'STILL does not launch properly and freezes at launch OR otherwise the gameplay freezes every 10 seconds.', \"I got this game on cdkeys so I can't even get a refund either.\", \"Simply amazing.I also submitted a ticket on the Focus website and they responded to my ticket saying that they are investigating these issues still but no fix at this time and they did not provide any ETA.I'm no longer wasting my time trying to find a fix.\", 'I have almost 2000 games on steam and this is the only one that is having this issue.', \"It's not an issue with my system.\", \"This game is very clearly the issue and I highly suggest anyone else experiencing similar issues to report this game as broken on steam.Original review:Game won't even launch.\"]\n"
     ]
    }
   ],
   "source": [
    "# Varsayalım ki DataFrame'iniz df ve yorumlar '0' sütununda\n",
    "text = ' '.join(df['review'].astype(str).tolist())  # Tüm yorumları tek bir metin haline getir\n",
    "sentences = sent_tokenize(text)  # Metni cümlelere ayır\n",
    "print(sentences[:10])  # İlk 10 cümleyi yazdır"
   ]
  },
  {
   "cell_type": "code",
   "execution_count": 19,
   "id": "23c9c413-f6bd-4ad8-bb25-96af0504b677",
   "metadata": {},
   "outputs": [],
   "source": [
    "# Lemmatizer ve Stemmer'ı başlat\n",
    "lemmatizer = WordNetLemmatizer()\n",
    "stemmer = PorterStemmer()"
   ]
  },
  {
   "cell_type": "code",
   "execution_count": 21,
   "id": "61735bbe-7450-4ad9-92d8-fb8443725d85",
   "metadata": {},
   "outputs": [],
   "source": [
    "# Kelimeleri tokenleştirip, lemmatize etme ve stemleme\n",
    "def preprocess_sentence(sentence):\n",
    " tokens = word_tokenize(sentence) # Cümleyi kelimelere ayır\n",
    "# Sadece harf olan kelimeleri al ve stopword'leri çıkar\n",
    " filtered_tokens = [token.lower() for token in tokens if token.isalpha() and token.lower() not in stop_words]\n",
    " lemmatized_tokens = [lemmatizer.lemmatize(token) for token in filtered_tokens] # Lemmatize etme\n",
    " stemmed_tokens = [stemmer.stem(token) for token in filtered_tokens] # Stemleme\n",
    " return lemmatized_tokens, stemmed_tokens"
   ]
  },
  {
   "cell_type": "code",
   "execution_count": 23,
   "id": "0e43c127-2c9b-43a6-87bd-3023227db933",
   "metadata": {},
   "outputs": [],
   "source": [
    "# Her cümleyi tokenleştir, lemmatize et ve stemle\n",
    "tokenized_corpus_lemmatized = []\n",
    "tokenized_corpus_stemmed = []"
   ]
  },
  {
   "cell_type": "code",
   "execution_count": 27,
   "id": "8f78e6ab-f9a8-42a2-9b7e-0868f0a5c1eb",
   "metadata": {},
   "outputs": [
    {
     "name": "stderr",
     "output_type": "stream",
     "text": [
      "[nltk_data] Downloading package punkt to\n",
      "[nltk_data]     C:\\Users\\eren\\AppData\\Roaming\\nltk_data...\n",
      "[nltk_data]   Package punkt is already up-to-date!\n",
      "[nltk_data] Downloading package stopwords to\n",
      "[nltk_data]     C:\\Users\\eren\\AppData\\Roaming\\nltk_data...\n",
      "[nltk_data]   Package stopwords is already up-to-date!\n",
      "[nltk_data] Downloading package wordnet to\n",
      "[nltk_data]     C:\\Users\\eren\\AppData\\Roaming\\nltk_data...\n",
      "[nltk_data]   Package wordnet is already up-to-date!\n"
     ]
    }
   ],
   "source": [
    "import nltk\n",
    "from nltk.tokenize import word_tokenize\n",
    "from nltk.corpus import stopwords\n",
    "from nltk.stem import WordNetLemmatizer, PorterStemmer\n",
    "\n",
    "# Gerekli NLTK bileşenlerini indir (bir kez çalıştırman yeterli)\n",
    "nltk.download('punkt')\n",
    "nltk.download('stopwords')\n",
    "nltk.download('wordnet')\n",
    "\n",
    "# Stopwords, lemmatizer ve stemmer tanımları\n",
    "stop_words = set(stopwords.words('english'))\n",
    "lemmatizer = WordNetLemmatizer()\n",
    "stemmer = PorterStemmer()\n",
    "\n",
    "# Ön işleme fonksiyonu\n",
    "def preprocess_sentence(sentence):\n",
    "    tokens = word_tokenize(sentence)  # Cümleyi kelimelere ayır\n",
    "    filtered_tokens = [token.lower() for token in tokens if token.isalpha() and token.lower() not in stop_words]\n",
    "    lemmatized_tokens = [lemmatizer.lemmatize(token) for token in filtered_tokens]\n",
    "    stemmed_tokens = [stemmer.stem(token) for token in filtered_tokens]\n",
    "    return lemmatized_tokens, stemmed_tokens"
   ]
  },
  {
   "cell_type": "code",
   "execution_count": 29,
   "id": "449a8220-ca8e-43ca-8d15-de1d1aff6f42",
   "metadata": {},
   "outputs": [],
   "source": [
    "for sentence in sentences:\n",
    " lemmatized_tokens, stemmed_tokens = preprocess_sentence(sentence)\n",
    " tokenized_corpus_lemmatized.append(lemmatized_tokens)\n",
    " tokenized_corpus_stemmed.append(stemmed_tokens)"
   ]
  },
  {
   "cell_type": "code",
   "execution_count": 31,
   "id": "561483dd-bc49-4325-83ab-464c80b2995a",
   "metadata": {},
   "outputs": [],
   "source": [
    "# lemmatize edılmıs cumlelerı bır csv dosyasına kaydedın.\n",
    "with open(\"lemmatized_sentences.csv\", mode=\"w\", newline=\"\", encoding=\"utf-8\") as file:\n",
    " writer = csv.writer(file)\n",
    "# Her cümleyi bir satır olarak yaz\n",
    " for tokens in tokenized_corpus_lemmatized:\n",
    "  writer.writerow([' '.join(tokens)])"
   ]
  },
  {
   "cell_type": "code",
   "execution_count": 33,
   "id": "89330fab-4929-42e6-b7a1-5600e4f6e098",
   "metadata": {},
   "outputs": [],
   "source": [
    "# Stem edılmıs cumlelerı bır csv dosyasına kaydedın.\n",
    "\n",
    "\n",
    "with open(\"stemmed_sentences.csv\", mode=\"w\", newline=\"\", encoding=\"utf-8\") as file:\n",
    "    writer = csv.writer(file)\n",
    "    # Her cümleyi bir satır olarak yaz\n",
    "    for tokens in tokenized_corpus_stemmed:\n",
    "        writer.writerow([' '.join(tokens)])"
   ]
  },
  {
   "cell_type": "code",
   "execution_count": 35,
   "id": "8b503a29-d07b-47a1-aa33-b286f1074f9c",
   "metadata": {},
   "outputs": [
    {
     "name": "stdout",
     "output_type": "stream",
     "text": [
      "Cümle 1 - Base: 2022 Simply incredible.\n",
      "Cümle 1 - Lemmatized: ['simply', 'incredible']\n",
      "Cümle 1 - Stemmed: ['simpli', 'incred']\n",
      "\n",
      "\n",
      "Cümle 2 - Base: With essential patches of first months and addition of Immortal Empires, this game is simply breathtaking!\n",
      "Cümle 2 - Lemmatized: ['essential', 'patch', 'first', 'month', 'addition', 'immortal', 'empire', 'game', 'simply', 'breathtaking']\n",
      "Cümle 2 - Stemmed: ['essenti', 'patch', 'first', 'month', 'addit', 'immort', 'empir', 'game', 'simpli', 'breathtak']\n",
      "\n",
      "\n",
      "Cümle 3 - Base: 09/05/2024 - Game 100% unplayable09/06/2024 - Game 100% unplayable09/07/2024 - Game 100% unplayable.09/08/2024 - Game 100% unplayable.09/09/2024 - Official release date.\n",
      "Cümle 3 - Lemmatized: ['game', 'game', 'game', 'game', 'official', 'release', 'date']\n",
      "Cümle 3 - Stemmed: ['game', 'game', 'game', 'game', 'offici', 'releas', 'date']\n",
      "\n",
      "\n",
      "Cümle 4 - Base: Still 100% unplayable.09/10/2024 - Game 100% unplayable.09/11/2024 - Game 100% unplayable.09/12/2024 - Game 100% unplayable.09/13/2024 - Game 100% unplayable.09/14/2024 - Game 100% unplayable.09/15/2024 - Game 100% unplayable.09/16/2024 - Game 100% unplayable.09/17/2024 - Game 100% unplayable.09/18/2024 - Game 100% unplayable.09/19/2024 - Game 100% unplayable.09/20/2024 - Game 100% unplayable.\n",
      "Cümle 4 - Lemmatized: ['still', 'game', 'game', 'game', 'game', 'game', 'game', 'game', 'game', 'game', 'game', 'game', 'unplayable']\n",
      "Cümle 4 - Stemmed: ['still', 'game', 'game', 'game', 'game', 'game', 'game', 'game', 'game', 'game', 'game', 'game', 'unplay']\n",
      "\n",
      "\n",
      "Cümle 5 - Base: STILL does not launch properly and freezes at launch OR otherwise the gameplay freezes every 10 seconds.\n",
      "Cümle 5 - Lemmatized: ['still', 'launch', 'properly', 'freeze', 'launch', 'otherwise', 'gameplay', 'freeze', 'every', 'second']\n",
      "Cümle 5 - Stemmed: ['still', 'launch', 'properli', 'freez', 'launch', 'otherwis', 'gameplay', 'freez', 'everi', 'second']\n",
      "\n",
      "\n"
     ]
    }
   ],
   "source": [
    " # İlk 5 cümleyi yazdıralım\n",
    "for i in range(5):\n",
    "    print(f\"Cümle {i+1} - Base: {sentences[i]}\")\n",
    "    print(f\"Cümle {i+1} - Lemmatized: {tokenized_corpus_lemmatized[i]}\")\n",
    "    print(f\"Cümle {i+1} - Stemmed: {tokenized_corpus_stemmed[i]}\")\n",
    "    print(\"\\n\")"
   ]
  },
  {
   "cell_type": "code",
   "execution_count": null,
   "id": "b592e907-6556-4bde-b989-3d1ca6550009",
   "metadata": {},
   "outputs": [],
   "source": []
  }
 ],
 "metadata": {
  "kernelspec": {
   "display_name": "Python [conda env:base] *",
   "language": "python",
   "name": "conda-base-py"
  },
  "language_info": {
   "codemirror_mode": {
    "name": "ipython",
    "version": 3
   },
   "file_extension": ".py",
   "mimetype": "text/x-python",
   "name": "python",
   "nbconvert_exporter": "python",
   "pygments_lexer": "ipython3",
   "version": "3.12.7"
  }
 },
 "nbformat": 4,
 "nbformat_minor": 5
}
