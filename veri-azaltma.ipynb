{
 "cells": [
  {
   "cell_type": "code",
   "execution_count": 3,
   "id": "dfd32266-c2d2-4da9-b475-bb8b2d902975",
   "metadata": {},
   "outputs": [],
   "source": [
    "import pandas as pd\n",
    "\n",
    "# CSV dosyasını oku\n",
    "df = pd.read_csv(\"veri_5k.csv\")\n",
    "\n",
    "# Rastgele 800 satırı seç\n",
    "df_800 = df.sample(n=800, random_state=42)  # random_state tekrarlanabilirlik sağlar\n",
    "\n",
    "# Yeni dosyaya kaydetmek istersen:\n",
    "df_800.to_csv(\"veri_800.csv\", index=False)"
   ]
  },
  {
   "cell_type": "code",
   "execution_count": null,
   "id": "4960240d-3980-49e7-9083-a6cf07442557",
   "metadata": {},
   "outputs": [],
   "source": []
  }
 ],
 "metadata": {
  "kernelspec": {
   "display_name": "Python [conda env:base] *",
   "language": "python",
   "name": "conda-base-py"
  },
  "language_info": {
   "codemirror_mode": {
    "name": "ipython",
    "version": 3
   },
   "file_extension": ".py",
   "mimetype": "text/x-python",
   "name": "python",
   "nbconvert_exporter": "python",
   "pygments_lexer": "ipython3",
   "version": "3.12.7"
  }
 },
 "nbformat": 4,
 "nbformat_minor": 5
}
