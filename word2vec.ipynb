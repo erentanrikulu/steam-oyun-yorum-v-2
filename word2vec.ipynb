{
 "cells": [
  {
   "cell_type": "code",
   "execution_count": 1,
   "id": "65035c96-340d-40a3-8459-31790fa80856",
   "metadata": {},
   "outputs": [],
   "source": [
    "import gensim\n",
    "from gensim.models import Word2Vec\n",
    "import pandas as pd\n",
    "import re\n",
    "\n",
    "import nltk\n",
    "from nltk.tokenize import word_tokenize, sent_tokenize\n",
    "from nltk.corpus import stopwords\n",
    "from nltk.stem import WordNetLemmatizer, PorterStemmer"
   ]
  },
  {
   "cell_type": "code",
   "execution_count": 3,
   "id": "9580f059-339c-4195-bbd1-3a4c800de035",
   "metadata": {},
   "outputs": [],
   "source": [
    "parameters = [\n",
    "    {'model_type': 'cbow', 'window': 2, 'vector_size': 100},\n",
    "    {'model_type': 'skipgram', 'window': 2, 'vector_size': 100},\n",
    "    {'model_type': 'cbow', 'window': 4, 'vector_size': 100},\n",
    "    {'model_type': 'skipgram', 'window': 4, 'vector_size': 100},\n",
    "    {'model_type': 'cbow', 'window': 2, 'vector_size': 300},\n",
    "    {'model_type': 'skipgram', 'window': 2, 'vector_size': 300},\n",
    "    {'model_type': 'cbow', 'window': 4, 'vector_size': 300},\n",
    "    {'model_type': 'skipgram', 'window': 4, 'vector_size': 300}\n",
    "]"
   ]
  },
  {
   "cell_type": "code",
   "execution_count": 5,
   "id": "23f4ecb1-b3ea-4dae-bc29-004631b866f1",
   "metadata": {},
   "outputs": [],
   "source": [
    "df1 = pd.read_csv(\"lemmatized_sentences.csv\")\n",
    "df2 = pd.read_csv(\"stemmed_sentences.csv\")"
   ]
  },
  {
   "cell_type": "code",
   "execution_count": 7,
   "id": "c3a1cfb4-8da8-42aa-b21d-323858e38cbd",
   "metadata": {},
   "outputs": [],
   "source": [
    "df1.columns = [\"0\"]\n",
    "\n",
    "# NaN değerleri ve boş stringleri temizle\n",
    "df1 = df1.dropna()\n",
    "df1 = df1[df1[\"0\"].str.strip() != \"\"]\n",
    "\n",
    "df2.columns = [\"0\"]\n",
    "\n",
    "# NaN değerleri ve boş stringleri temizle\n",
    "df2 = df2.dropna()\n",
    "df2 = df2[df2[\"0\"].str.strip() != \"\"]"
   ]
  },
  {
   "cell_type": "code",
   "execution_count": 9,
   "id": "b399cba8-9608-4fed-ada2-0d89abe93507",
   "metadata": {},
   "outputs": [],
   "source": [
    "# Doğru tokenizasyon fonksiyonu\n",
    "def proper_tokenize(text):\n",
    "    # Özel karakterleri kaldır ve küçük harfe çevir\n",
    "    text = re.sub(r'[^a-zA-ZğüşıöçĞÜŞİÖÇ\\s]', '', text.lower())\n",
    "    # NLTK ile tokenize et\n",
    "    tokens = word_tokenize(text)\n",
    "    # Stopwords'leri ve tek karakterli kelimeleri kaldır\n",
    "    stop_words = set(stopwords.words('english'))\n",
    "    return [word for word in tokens if word not in stop_words and len(word) > 1]"
   ]
  },
  {
   "cell_type": "code",
   "execution_count": 11,
   "id": "c14ab08b-aab1-4700-99e1-8079b50eae0e",
   "metadata": {},
   "outputs": [],
   "source": [
    "# Doğru tokenizasyon uygula\n",
    "df1['tokens'] = df1['0'].apply(proper_tokenize)\n",
    "df2['tokens'] = df2['0'].apply(proper_tokenize)"
   ]
  },
  {
   "cell_type": "code",
   "execution_count": 13,
   "id": "55b69061-e02d-4343-8185-b689b40b2eaa",
   "metadata": {},
   "outputs": [],
   "source": [
    "# Token listelerini oluştur\n",
    "tokenized_corpus_lemmatized = df1['tokens'].tolist()\n",
    "tokenized_corpus_stemmed = df2['tokens'].tolist()"
   ]
  },
  {
   "cell_type": "code",
   "execution_count": 15,
   "id": "94e7cf1b-4d09-4396-b245-f4a16fa47c8a",
   "metadata": {},
   "outputs": [],
   "source": [
    "def train_and_save_model(corpus, param, model_prefix):\n",
    "    model_type = param['model_type']\n",
    "    vector_size = param['vector_size']\n",
    "    window = param['window']\n",
    "    \n",
    "    # CBOW (sg=0) veya Skip-gram (sg=1)\n",
    "    sg = 0 if model_type == 'cbow' else 1\n",
    "\n",
    "    model = Word2Vec(\n",
    "        sentences=corpus,\n",
    "        vector_size=vector_size,\n",
    "        window=window,\n",
    "        min_count=1,\n",
    "        workers=4,\n",
    "        sg=sg\n",
    "    )\n",
    "\n",
    "    model_filename = f\"{model_prefix}_{model_type}_vs{vector_size}_w{window}.model\"\n",
    "    model.save(model_filename)\n",
    "    print(f\"Model saved as {model_filename}\")"
   ]
  },
  {
   "cell_type": "code",
   "execution_count": 17,
   "id": "d809a70f-51a9-47f4-b379-e02a183feeed",
   "metadata": {},
   "outputs": [
    {
     "name": "stdout",
     "output_type": "stream",
     "text": [
      "Model saved as lemmatized_model_cbow_vs100_w2.model\n",
      "Model saved as lemmatized_model_skipgram_vs100_w2.model\n",
      "Model saved as lemmatized_model_cbow_vs100_w4.model\n",
      "Model saved as lemmatized_model_skipgram_vs100_w4.model\n",
      "Model saved as lemmatized_model_cbow_vs300_w2.model\n",
      "Model saved as lemmatized_model_skipgram_vs300_w2.model\n",
      "Model saved as lemmatized_model_cbow_vs300_w4.model\n",
      "Model saved as lemmatized_model_skipgram_vs300_w4.model\n",
      "Model saved as stemmed_model_cbow_vs100_w2.model\n",
      "Model saved as stemmed_model_skipgram_vs100_w2.model\n",
      "Model saved as stemmed_model_cbow_vs100_w4.model\n",
      "Model saved as stemmed_model_skipgram_vs100_w4.model\n",
      "Model saved as stemmed_model_cbow_vs300_w2.model\n",
      "Model saved as stemmed_model_skipgram_vs300_w2.model\n",
      "Model saved as stemmed_model_cbow_vs300_w4.model\n",
      "Model saved as stemmed_model_skipgram_vs300_w4.model\n"
     ]
    }
   ],
   "source": [
    "# Lemmatize edilmiş corpus ile modelleri eğitme ve kaydetme\n",
    "for param in parameters:\n",
    "    train_and_save_model(tokenized_corpus_lemmatized, param, \"lemmatized_model\")\n",
    "\n",
    "# Stemlenmiş corpus ile modelleri eğitme ve kaydetme\n",
    "for param in parameters:\n",
    "    train_and_save_model(tokenized_corpus_stemmed, param, \"stemmed_model\")"
   ]
  },
  {
   "cell_type": "code",
   "execution_count": 19,
   "id": "2e5b5f1f-d63a-4161-b882-14fde06408c8",
   "metadata": {},
   "outputs": [],
   "source": [
    "# Model dosyalarını yüklemek\n",
    "model_1 = Word2Vec.load(\"lemmatized_model_cbow_vs100_w2.model\")\n",
    "model_2 = Word2Vec.load(\"lemmatized_model_skipgram_vs100_w2.model\")\n",
    "model_3 = Word2Vec.load(\"lemmatized_model_cbow_vs100_w4.model\")\n",
    "model_4 = Word2Vec.load(\"lemmatized_model_skipgram_vs100_w4.model\")\n",
    "model_5 = Word2Vec.load(\"lemmatized_model_cbow_vs300_w2.model\")\n",
    "model_6 = Word2Vec.load(\"lemmatized_model_skipgram_vs300_w2.model\")\n",
    "model_7 = Word2Vec.load(\"lemmatized_model_cbow_vs300_w4.model\")\n",
    "model_8 = Word2Vec.load(\"lemmatized_model_skipgram_vs300_w4.model\")\n",
    "model_9  = Word2Vec.load(\"stemmed_model_cbow_vs100_w2.model\")\n",
    "model_10 = Word2Vec.load(\"stemmed_model_skipgram_vs100_w2.model\")\n",
    "model_11 = Word2Vec.load(\"stemmed_model_cbow_vs100_w4.model\")\n",
    "model_12 = Word2Vec.load(\"stemmed_model_skipgram_vs100_w4.model\")\n",
    "model_13 = Word2Vec.load(\"stemmed_model_cbow_vs300_w2.model\")\n",
    "model_14 = Word2Vec.load(\"stemmed_model_skipgram_vs300_w2.model\")\n",
    "model_15 = Word2Vec.load(\"stemmed_model_cbow_vs300_w4.model\")\n",
    "model_16 = Word2Vec.load(\"stemmed_model_skipgram_vs300_w4.model\")"
   ]
  },
  {
   "cell_type": "code",
   "execution_count": 21,
   "id": "c95af8ab-f0b0-459a-a0c7-b58ad5a9c24f",
   "metadata": {},
   "outputs": [],
   "source": [
    "# 'game' kelimesi ile en benzer 3 kelimeyi ve skorlarını yazdırmak\n",
    "def print_similar_words(model, model_name):\n",
    "    similarity = model.wv.most_similar(\"game\", topn=3)\n",
    "    print(f\"\\n{model_name} Modeli - 'game' ile En Benzer 3 Kelime:\")\n",
    "    for word, score in similarity:\n",
    "        print(f\"Kelime: {word}, Benzerlik Skoru: {score}\")"
   ]
  },
  {
   "cell_type": "code",
   "execution_count": 23,
   "id": "729d5151-6fa4-4ca3-b15f-840a481b1c7c",
   "metadata": {},
   "outputs": [
    {
     "name": "stdout",
     "output_type": "stream",
     "text": [
      "\n",
      "Lemmatized CBOW Window 2 Dim 100 Modeli - 'game' ile En Benzer 3 Kelime:\n",
      "Kelime: get, Benzerlik Skoru: 0.9985601305961609\n",
      "Kelime: player, Benzerlik Skoru: 0.9984879493713379\n",
      "Kelime: even, Benzerlik Skoru: 0.9984292984008789\n",
      "\n",
      "Stemmed Skipgram Window 4 Dim 100 Modeli - 'game' ile En Benzer 3 Kelime:\n",
      "Kelime: fun, Benzerlik Skoru: 0.9986771941184998\n",
      "Kelime: need, Benzerlik Skoru: 0.99863600730896\n",
      "Kelime: gameplay, Benzerlik Skoru: 0.9986281991004944\n",
      "\n",
      "Lemmatized Skipgram Window 2 Dim 300 Modeli - 'game' ile En Benzer 3 Kelime:\n",
      "Kelime: get, Benzerlik Skoru: 0.9997380971908569\n",
      "Kelime: player, Benzerlik Skoru: 0.9997303485870361\n",
      "Kelime: like, Benzerlik Skoru: 0.9996941685676575\n",
      "\n",
      "lemmatized skipgram window 4 dim 100 Modeli - 'game' ile En Benzer 3 Kelime:\n",
      "Kelime: fun, Benzerlik Skoru: 0.997857928276062\n",
      "Kelime: need, Benzerlik Skoru: 0.9974784851074219\n",
      "Kelime: still, Benzerlik Skoru: 0.9974658489227295\n",
      "\n",
      "lemmatized cbow window 2 dim 300 Modeli - 'game' ile En Benzer 3 Kelime:\n",
      "Kelime: get, Benzerlik Skoru: 0.9991283416748047\n",
      "Kelime: time, Benzerlik Skoru: 0.9989914298057556\n",
      "Kelime: even, Benzerlik Skoru: 0.9989756941795349\n",
      "\n",
      "lemmatizedskipgramwindow 2 dim300 Modeli - 'game' ile En Benzer 3 Kelime:\n",
      "Kelime: make, Benzerlik Skoru: 0.9994601607322693\n",
      "Kelime: issue, Benzerlik Skoru: 0.9994599223136902\n",
      "Kelime: first, Benzerlik Skoru: 0.9994397163391113\n",
      "\n",
      "lemmatized_cbow_window 4_dim300 Modeli - 'game' ile En Benzer 3 Kelime:\n",
      "Kelime: get, Benzerlik Skoru: 0.9998847842216492\n",
      "Kelime: time, Benzerlik Skoru: 0.9998785853385925\n",
      "Kelime: player, Benzerlik Skoru: 0.9998711347579956\n",
      "\n",
      "lemmatized_skipgram_window4_dim300.model Modeli - 'game' ile En Benzer 3 Kelime:\n",
      "Kelime: played, Benzerlik Skoru: 0.9991791248321533\n",
      "Kelime: buy, Benzerlik Skoru: 0.9990776181221008\n",
      "Kelime: best, Benzerlik Skoru: 0.9990440011024475\n",
      "\n",
      "stemmed_cbow_window2_dim100 Modeli - 'game' ile En Benzer 3 Kelime:\n",
      "Kelime: make, Benzerlik Skoru: 0.999544084072113\n",
      "Kelime: boss, Benzerlik Skoru: 0.99953293800354\n",
      "Kelime: play, Benzerlik Skoru: 0.9995290040969849\n",
      "\n",
      "stemmed_skipgram_window2_dim100 Modeli - 'game' ile En Benzer 3 Kelime:\n",
      "Kelime: sinc, Benzerlik Skoru: 0.9980822801589966\n",
      "Kelime: buy, Benzerlik Skoru: 0.9980326294898987\n",
      "Kelime: requir, Benzerlik Skoru: 0.9980065226554871\n",
      "\n",
      "stemmed_cbow_window4_dim100 Modeli - 'game' ile En Benzer 3 Kelime:\n",
      "Kelime: player, Benzerlik Skoru: 0.9998254776000977\n",
      "Kelime: boss, Benzerlik Skoru: 0.9998149871826172\n",
      "Kelime: play, Benzerlik Skoru: 0.9998128414154053\n",
      "\n",
      "stemmed_skipgram_window4_dim100 Modeli - 'game' ile En Benzer 3 Kelime:\n",
      "Kelime: like, Benzerlik Skoru: 0.9953675866127014\n",
      "Kelime: year, Benzerlik Skoru: 0.9943623542785645\n",
      "Kelime: buy, Benzerlik Skoru: 0.9943574666976929\n",
      "\n",
      "stemmed_cbow_window2_dim300 Modeli - 'game' ile En Benzer 3 Kelime:\n",
      "Kelime: get, Benzerlik Skoru: 0.999794065952301\n",
      "Kelime: play, Benzerlik Skoru: 0.9997571110725403\n",
      "Kelime: make, Benzerlik Skoru: 0.9997501373291016\n",
      "\n",
      "stemmed_skipgram_window2_dim300 Modeli - 'game' ile En Benzer 3 Kelime:\n",
      "Kelime: say, Benzerlik Skoru: 0.999273955821991\n",
      "Kelime: come, Benzerlik Skoru: 0.99925696849823\n",
      "Kelime: first, Benzerlik Skoru: 0.9992402791976929\n",
      "\n",
      "stemmed_cbow_window4_dim300 Modeli - 'game' ile En Benzer 3 Kelime:\n",
      "Kelime: get, Benzerlik Skoru: 0.999937891960144\n",
      "Kelime: player, Benzerlik Skoru: 0.999928891658783\n",
      "Kelime: play, Benzerlik Skoru: 0.9999274611473083\n",
      "\n",
      "stemmed_skipgram_window4_dim300 Modeli - 'game' ile En Benzer 3 Kelime:\n",
      "Kelime: like, Benzerlik Skoru: 0.9985128045082092\n",
      "Kelime: anoth, Benzerlik Skoru: 0.9982139468193054\n",
      "Kelime: year, Benzerlik Skoru: 0.9981486201286316\n"
     ]
    }
   ],
   "source": [
    "# 16 model için benzer kelimeleri yazdır\n",
    "print_similar_words(model_1, \"Lemmatized CBOW Window 2 Dim 100\")\n",
    "print_similar_words(model_2, \"Stemmed Skipgram Window 4 Dim 100\")\n",
    "print_similar_words(model_3, \"Lemmatized Skipgram Window 2 Dim 300\")\n",
    "print_similar_words(model_4, \"lemmatized skipgram window 4 dim 100\")\n",
    "print_similar_words(model_5, \"lemmatized cbow window 2 dim 300\")\n",
    "print_similar_words(model_6, \"lemmatizedskipgramwindow 2 dim300\")\n",
    "print_similar_words(model_7, \"lemmatized_cbow_window 4_dim300\")\n",
    "print_similar_words(model_8, \"lemmatized_skipgram_window4_dim300.model\")\n",
    "print_similar_words(model_9, \"stemmed_cbow_window2_dim100\")\n",
    "print_similar_words(model_10, \"stemmed_skipgram_window2_dim100\")\n",
    "print_similar_words(model_11, \"stemmed_cbow_window4_dim100\")\n",
    "print_similar_words(model_12, \"stemmed_skipgram_window4_dim100\")\n",
    "print_similar_words(model_13, \"stemmed_cbow_window2_dim300\")\n",
    "print_similar_words(model_14, \"stemmed_skipgram_window2_dim300\")\n",
    "print_similar_words(model_15, \"stemmed_cbow_window4_dim300\")\n",
    "print_similar_words(model_16, \"stemmed_skipgram_window4_dim300\")"
   ]
  },
  {
   "cell_type": "code",
   "execution_count": 26,
   "id": "eccf1226-3eb5-4532-828b-c793e13b98f7",
   "metadata": {},
   "outputs": [
    {
     "name": "stdout",
     "output_type": "stream",
     "text": [
      "En sık kullanılan 20 kelime: [('game', 1548), ('like', 347), ('get', 266), ('time', 233), ('even', 232), ('play', 218), ('good', 217), ('feel', 195), ('one', 193), ('fun', 179), ('player', 167), ('really', 163), ('new', 161), ('make', 159), ('still', 142), ('ca', 136), ('would', 130), ('world', 129), ('review', 127), ('playing', 127)]\n"
     ]
    }
   ],
   "source": [
    "\n",
    "# Veri setinizde en sık geçen 20 kelime\n",
    "from collections import Counter\n",
    "all_words = [word for sentence in tokenized_corpus_lemmatized for word in sentence]\n",
    "print(\"En sık kullanılan 20 kelime:\", Counter(all_words).most_common(20))"
   ]
  },
  {
   "cell_type": "code",
   "execution_count": null,
   "id": "225d8c1c-4116-4bbc-9d0c-335272a81e8c",
   "metadata": {},
   "outputs": [],
   "source": []
  }
 ],
 "metadata": {
  "kernelspec": {
   "display_name": "Python [conda env:base] *",
   "language": "python",
   "name": "conda-base-py"
  },
  "language_info": {
   "codemirror_mode": {
    "name": "ipython",
    "version": 3
   },
   "file_extension": ".py",
   "mimetype": "text/x-python",
   "name": "python",
   "nbconvert_exporter": "python",
   "pygments_lexer": "ipython3",
   "version": "3.12.7"
  }
 },
 "nbformat": 4,
 "nbformat_minor": 5
}
